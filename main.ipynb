{
 "cells": [
  {
   "cell_type": "markdown",
   "metadata": {},
   "source": [
    "## Capital Gains Tracker\n",
    "### AD325 Project 1"
   ]
  },
  {
   "cell_type": "markdown",
   "metadata": {},
   "source": [
    "<img> UML diagram"
   ]
  },
  {
   "cell_type": "code",
   "execution_count": 3,
   "metadata": {},
   "outputs": [
    {
     "name": "stdout",
     "output_type": "stream",
     "text": [
      "Buy 20 shares of AAPL at $45.\n",
      "Buy 20 shares of AAPL at $75.\n",
      "Buy 20 shares of MSFT at $95.\n",
      "Display the ledger\n",
      "----  Stock Ledger  ----\n",
      "AAPL: 45. (20 shares)   75. (20 shares)   \n",
      "MSFT: 95. (20 shares)   \n",
      "Sell 30 shares of AAPL at $65\n",
      "Display the ledger\n",
      "----  Stock Ledger  ----\n",
      "AAPL: 75. (9 shares)   45. (1 shares)   \n",
      "MSFT: 95. (20 shares)   \n",
      "Sell 10 shares of AAPL at $65\n",
      "Display the ledger\n",
      "----  Stock Ledger  ----\n",
      "AAPL: 75. (9 shares)   45. (1 shares)   \n",
      "MSFT: 95. (20 shares)   \n",
      "Buy 100 shares of AAPL at $20\n",
      "Buy 20 shares of AAPL at $24\n",
      "Buy 200 shares of TSLA at $36\n",
      "Display the ledger\n",
      "----  Stock Ledger  ----\n",
      "AAPL: 75. (9 shares)   45. (1 shares)   20 (100 shares)   24 (20 shares)   \n",
      "MSFT: 95. (20 shares)   \n",
      "TSLA: 36 (200 shares)   \n",
      "Sell 10 shares of AAPL at $65\n",
      "Display the ledger\n",
      "----  Stock Ledger  ----\n",
      "AAPL: 20 (99 shares)   24 (20 shares)   75. (1 shares)   \n",
      "MSFT: 95. (20 shares)   \n",
      "TSLA: 36 (200 shares)   \n",
      "Sell 150 shares of TSLA at $30\n",
      "Display the ledger\n",
      "----  Stock Ledger  ----\n",
      "AAPL: 20 (99 shares)   24 (20 shares)   75. (1 shares)   \n",
      "MSFT: 95. (20 shares)   \n",
      "TSLA: 36 (50 shares)   \n",
      "Buy 5 shares of MSFT at $60\n",
      "Buy 5 shares of MSFT at $70\n",
      "Display the ledger\n",
      "----  Stock Ledger  ----\n",
      "AAPL: 20 (99 shares)   24 (20 shares)   75. (1 shares)   \n",
      "MSFT: 95. (20 shares)   60 (5 shares)   70 (5 shares)   \n",
      "TSLA: 36 (50 shares)   \n",
      "Sell 4 shares of MSFT at $30\n",
      "Display the ledger\n",
      "----  Stock Ledger  ----\n",
      "AAPL: 20 (99 shares)   24 (20 shares)   75. (1 shares)   \n",
      "MSFT: 95. (16 shares)   60 (5 shares)   70 (5 shares)   \n",
      "TSLA: 36 (50 shares)   \n",
      "Sell 2 shares of MSFT at $30\n",
      "Display the ledger\n",
      "----  Stock Ledger  ----\n",
      "AAPL: 20 (99 shares)   24 (20 shares)   75. (1 shares)   \n",
      "MSFT: 95. (14 shares)   60 (5 shares)   70 (5 shares)   \n",
      "TSLA: 36 (50 shares)   \n"
     ]
    }
   ],
   "source": [
    "from stock_ledger import StockLedger\n",
    "from stock_purchase import StockPurchase\n",
    "\n",
    "\n",
    "# Testing output as in assignment\n",
    "def interpret_string_as_ledger(input_str: str) -> StockLedger:\n",
    "    sl = StockLedger()\n",
    "    input_lines = input_str.split('\\n')\n",
    "    for each_line in input_lines:\n",
    "        each_split_line = each_line.split()  # splits on spaces\n",
    "        print(each_line)\n",
    "        if each_split_line[0] == 'Buy':\n",
    "            # for shares in range(int(each_split_line[1])):\n",
    "            #     sl.add_purchase(StockPurchase(each_split_line[4], each_line.split('$')[1]))\n",
    "            sl.buy(each_split_line[4], int(each_split_line[1]), float(each_line.split('$')[1]))\n",
    "        elif each_split_line[0] == 'Sell':\n",
    "            sl.sell(each_split_line[4], int(each_split_line[1]), float(each_line.split('$')[1]))\n",
    "        else:\n",
    "            sl.display_ledger()\n",
    "\n",
    "buy_sell_str = \"\"\"Buy 20 shares of AAPL at $45.\n",
    "Buy 20 shares of AAPL at $75.\n",
    "Buy 20 shares of MSFT at $95.\n",
    "Display the ledger\n",
    "Sell 30 shares of AAPL at $65\n",
    "Display the ledger\n",
    "Sell 10 shares of AAPL at $65\n",
    "Display the ledger\n",
    "Buy 100 shares of AAPL at $20\n",
    "Buy 20 shares of AAPL at $24\n",
    "Buy 200 shares of TSLA at $36\n",
    "Display the ledger\n",
    "Sell 10 shares of AAPL at $65\n",
    "Display the ledger\n",
    "Sell 150 shares of TSLA at $30\n",
    "Display the ledger\n",
    "Buy 5 shares of MSFT at $60\n",
    "Buy 5 shares of MSFT at $70\n",
    "Display the ledger\n",
    "Sell 4 shares of MSFT at $30\n",
    "Display the ledger\n",
    "Sell 2 shares of MSFT at $30\n",
    "Display the ledger\"\"\"\n",
    "\n",
    "le_test_1 = interpret_string_as_ledger(buy_sell_str)"
   ]
  }
 ],
 "metadata": {
  "kernelspec": {
   "display_name": "Python 3",
   "language": "python",
   "name": "python3"
  },
  "language_info": {
   "codemirror_mode": {
    "name": "ipython",
    "version": 3
   },
   "file_extension": ".py",
   "mimetype": "text/x-python",
   "name": "python",
   "nbconvert_exporter": "python",
   "pygments_lexer": "ipython3",
   "version": "3.12.6"
  }
 },
 "nbformat": 4,
 "nbformat_minor": 2
}
