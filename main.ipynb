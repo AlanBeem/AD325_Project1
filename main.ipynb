{
 "cells": [
  {
   "cell_type": "markdown",
   "metadata": {},
   "source": [
    "## Capital Gains Tracker\n",
    "### AD325 Project 1"
   ]
  },
  {
   "cell_type": "markdown",
   "metadata": {},
   "source": [
    "<img> UML diagram"
   ]
  },
  {
   "cell_type": "code",
   "execution_count": 1,
   "metadata": {},
   "outputs": [],
   "source": [
    "from stock_ledger import StockLedger\n",
    "from trading_bot import TradingBot\n",
    "from capital_gains_helper_methods import *\n",
    "import matplotlib.pyplot as plt\n"
   ]
  },
  {
   "cell_type": "markdown",
   "metadata": {},
   "source": [
    "### sellOptimal\n",
    "\n",
    "\"When the sale price is greater than the ledger entry average, make as much money as possible.\", \"When the sale price is less than the ledger entry average, lose as little money as possible.\"; both statements are effected by filling sale quantities using the lowest priced stock purchases available.\n",
    "\n",
    "These behaviors are effected over controlled traversal of ledger entries (deques), using pointers, and gathering statistics."
   ]
  },
  {
   "cell_type": "markdown",
   "metadata": {},
   "source": [
    "### Comparing sell (queue-behavior) to sellOptimal (deque-behavior):\n",
    "\n",
    "Over a number of input strings encoding buy and sell orders (such that no sell order is greater than current number of shares)."
   ]
  },
  {
   "cell_type": "markdown",
   "metadata": {},
   "source": [
    "Compare profit over each buy/sell for a single input string:"
   ]
  },
  {
   "cell_type": "markdown",
   "metadata": {},
   "source": [
    "Compare average profit per share per sale."
   ]
  },
  {
   "cell_type": "code",
   "execution_count": 3,
   "metadata": {},
   "outputs": [
    {
     "data": {
      "text/plain": [
       "[<matplotlib.lines.Line2D at 0x10f76ac00>]"
      ]
     },
     "execution_count": 3,
     "metadata": {},
     "output_type": "execute_result"
    },
    {
     "data": {
      "image/png": "[encoded data removed]",
      "text/plain": [
       "<Figure size 640x480 with 1 Axes>"
      ]
     },
     "metadata": {},
     "output_type": "display_data"
    }
   ],
   "source": [
    "tb_1 = TradingBot(10000)\n",
    "buy_sell_str = \"\"\"Buy 20 shares of AAPL at $45.\n",
    "Buy 20 shares of AAPL at $75.\n",
    "Buy 20 shares of MSFT at $95.\n",
    "Display the ledger\n",
    "Sell 30 shares of AAPL at $65\n",
    "Display the ledger\n",
    "Sell 10 shares of AAPL at $65\n",
    "Display the ledger\n",
    "Buy 100 shares of AAPL at $20\n",
    "Buy 20 shares of AAPL at $24\n",
    "Buy 200 shares of TSLA at $36\n",
    "Display the ledger\n",
    "Sell 10 shares of AAPL at $65\n",
    "Display the ledger\n",
    "Sell 150 shares of TSLA at $30\n",
    "Display the ledger\n",
    "Buy 5 shares of MSFT at $60\n",
    "Buy 5 shares of MSFT at $70\n",
    "Display the ledger\n",
    "Sell 4 shares of MSFT at $30\n",
    "Display the ledger\n",
    "Sell 2 shares of MSFT at $30\n",
    "Display the ledger\"\"\"\n",
    "plot_x, plot_y = string_to_trading_bot(buy_sell_str, tb_1)\n",
    "plt.plot(plot_x, plot_y)"
   ]
  },
  {
   "cell_type": "markdown",
   "metadata": {},
   "source": []
  },
  {
   "cell_type": "markdown",
   "metadata": {},
   "source": []
  }
 ],
 "metadata": {
  "kernelspec": {
   "display_name": "Python 3",
   "language": "python",
   "name": "python3"
  },
  "language_info": {
   "codemirror_mode": {
    "name": "ipython",
    "version": 3
   },
   "file_extension": ".py",
   "mimetype": "text/x-python",
   "name": "python",
   "nbconvert_exporter": "python",
   "pygments_lexer": "ipython3",
   "version": "3.12.6"
  }
 },
 "nbformat": 4,
 "nbformat_minor": 2
}
