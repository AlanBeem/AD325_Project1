{
 "cells": [
  {
   "cell_type": "markdown",
   "metadata": {},
   "source": [
    "## Capital Gains Tracker\n",
    "1. Testing with psuedorandomly generated buy-sell strings\n",
    "2. Debugging and testing 10/11/2024"
   ]
  },
  {
   "cell_type": "code",
   "execution_count": 5,
   "metadata": {},
   "outputs": [],
   "source": [
    "from stock_ledger import StockLedger\n",
    "from capital_gains_helper_methods import *\n",
    "from random import SystemRandom"
   ]
  },
  {
   "cell_type": "markdown",
   "metadata": {},
   "source": [
    "### 1. Testing with pseudorandomly generated buy-sell strings"
   ]
  },
  {
   "cell_type": "code",
   "execution_count": 6,
   "metadata": {},
   "outputs": [
    {
     "name": "stdout",
     "output_type": "stream",
     "text": [
      "Buy 2 shares of MSFT at $162.77.\n",
      "Buy 3 shares of NVDA at $74.25.\n",
      "Buy 1 shares of TSLA at $116.06.\n",
      "Buy 2 shares of NVDA at $4.34.\n",
      "Buy 5 shares of NVDA at $68.74.\n",
      "Buy 2 shares of AAPL at $70.45.\n",
      "Sell 2 shares of AAPL at $109.78.\n",
      "Sell 4 shares of NVDA at $174.43.\n",
      "Buy 1 shares of TSLA at $53.13.\n",
      "Buy 4 shares of AAPL at $161.58.\n",
      "[4, 2, 2, 6]\n"
     ]
    },
    {
     "ename": "ValueError",
     "evalue": "could not convert string to float: '162.77.'",
     "output_type": "error",
     "traceback": [
      "\u001b[0;31m---------------------------------------------------------------------------\u001b[0m",
      "\u001b[0;31mValueError\u001b[0m                                Traceback (most recent call last)",
      "Cell \u001b[0;32mIn[6], line 24\u001b[0m\n\u001b[1;32m     22\u001b[0m \u001b[38;5;66;03m#\u001b[39;00m\n\u001b[1;32m     23\u001b[0m \u001b[38;5;28mprint\u001b[39m(expected_shares)\n\u001b[0;32m---> 24\u001b[0m testing_1_stock_ledger \u001b[38;5;241m=\u001b[39m \u001b[43minterpret_string_as_ledger\u001b[49m\u001b[43m(\u001b[49m\u001b[43mtesting_1_buy_sell_str\u001b[49m\u001b[43m)\u001b[49m\n\u001b[1;32m     25\u001b[0m testing_1_stock_ledger\u001b[38;5;241m.\u001b[39mdisplay_ledger()\n",
      "File \u001b[0;32m~/Desktop/AD325_Fall_2024/AD325_Projects/AD325_Project1/capital_gains_helper_methods.py:34\u001b[0m, in \u001b[0;36minterpret_string_as_ledger\u001b[0;34m(input_str)\u001b[0m\n\u001b[1;32m     31\u001b[0m     \u001b[38;5;66;03m# if price_string[-1] == '.':\u001b[39;00m\n\u001b[1;32m     32\u001b[0m     \u001b[38;5;66;03m#     price_string = price_string[0:len(price_string) - 1]\u001b[39;00m\n\u001b[1;32m     33\u001b[0m \u001b[38;5;28;01mif\u001b[39;00m each_split_line[\u001b[38;5;241m0\u001b[39m] \u001b[38;5;241m==\u001b[39m \u001b[38;5;124m'\u001b[39m\u001b[38;5;124mBuy\u001b[39m\u001b[38;5;124m'\u001b[39m:\n\u001b[0;32m---> 34\u001b[0m     sl\u001b[38;5;241m.\u001b[39mbuy(each_split_line[\u001b[38;5;241m4\u001b[39m], \u001b[38;5;28mint\u001b[39m(each_split_line[\u001b[38;5;241m1\u001b[39m]), \u001b[38;5;28;43mfloat\u001b[39;49m\u001b[43m(\u001b[49m\u001b[43mprice_string\u001b[49m\u001b[43m)\u001b[49m)\n\u001b[1;32m     35\u001b[0m \u001b[38;5;28;01melif\u001b[39;00m each_split_line[\u001b[38;5;241m0\u001b[39m] \u001b[38;5;241m==\u001b[39m \u001b[38;5;124m'\u001b[39m\u001b[38;5;124mSell\u001b[39m\u001b[38;5;124m'\u001b[39m:\n\u001b[1;32m     36\u001b[0m     sl\u001b[38;5;241m.\u001b[39msell(each_split_line[\u001b[38;5;241m4\u001b[39m], \u001b[38;5;28mint\u001b[39m(each_split_line[\u001b[38;5;241m1\u001b[39m]), \u001b[38;5;28mfloat\u001b[39m(price_string))\n",
      "\u001b[0;31mValueError\u001b[0m: could not convert string to float: '162.77.'"
     ]
    }
   ],
   "source": [
    "testing_1_stock_symbols = ['AAPL', 'MSFT', 'TSLA', 'NVDA']\n",
    "# num_transactions_per_iteration = 20\n",
    "# num_iterations = 1000\n",
    "# displayed_iteration = SystemRandom().randrange(1000)\n",
    "# for iteration in range(num_iterations):\n",
    "#     buy_sell_str_1, expected_shares = generate_buy_sell_lines_string(testing_1_stock_symbols, num_transactions_per_iteration)  # huh, cool\n",
    "#     sl_test_1 = interpret_string_as_ledger(buy_sell_str_1)\n",
    "#     if iteration == displayed_iteration:\n",
    "#         print(buy_sell_str_1)\n",
    "#         sl_test_1.display_ledger()\n",
    "#     for each_int, each_symbol in zip(expected_shares, testing_1_stock_symbols):\n",
    "#         if each_int != sl_test_1.number_of_shares(each_symbol):\n",
    "#             print(\"Test failed:\")\n",
    "#             print(\"Expected:\")\n",
    "#             print(testing_1_stock_symbols)\n",
    "#             print(expected_shares)\n",
    "#             print(\"Resulting ledger:\")\n",
    "#             sl_test_1.display_ledger()\n",
    "# 10/11/2024 re above: many or all tests fail, look at what's going on:\n",
    "testing_1_buy_sell_str, expected_shares = generate_buy_sell_lines_string(testing_1_stock_symbols, 10, 1, 5)\n",
    "print(testing_1_buy_sell_str)\n",
    "#\n",
    "print(expected_shares)\n",
    "testing_1_stock_ledger = interpret_string_as_ledger(testing_1_buy_sell_str)\n",
    "testing_1_stock_ledger.display_ledger()"
   ]
  },
  {
   "cell_type": "markdown",
   "metadata": {},
   "source": [
    "### 2. Debugging and testing 10/11/2024"
   ]
  },
  {
   "cell_type": "code",
   "execution_count": null,
   "metadata": {},
   "outputs": [],
   "source": [
    "buy_sell_str = \"\"\"Buy 20 shares of AAPL at $45.\n",
    "Buy 20 shares of AAPL at $75.\n",
    "Buy 20 shares of MSFT at $95.\n",
    "Display the ledger\n",
    "Sell 30 shares of AAPL at $65\n",
    "Display the ledger\n",
    "Sell 10 shares of AAPL at $65\n",
    "Display the ledger\n",
    "Buy 100 shares of AAPL at $20\n",
    "Buy 20 shares of AAPL at $24\n",
    "Buy 200 shares of TSLA at $36\n",
    "Display the ledger\n",
    "Sell 10 shares of AAPL at $65\n",
    "Display the ledger\n",
    "Sell 150 shares of TSLA at $30\n",
    "Display the ledger\n",
    "Buy 5 shares of MSFT at $60\n",
    "Buy 5 shares of MSFT at $70\n",
    "Display the ledger\n",
    "Sell 4 shares of MSFT at $30\n",
    "Display the ledger\n",
    "Sell 2 shares of MSFT at $30\n",
    "Display the ledger\"\"\"\n",
    "\n",
    "sl_test_2_1 = display_interpret_string_as_ledger(buy_sell_str)\n",
    "\n",
    "sl_test_2_2 = interpret_string_as_ledger(buy_sell_str)\n",
    "sl_test_2_2.display_ledger()"
   ]
  },
  {
   "cell_type": "code",
   "execution_count": null,
   "metadata": {},
   "outputs": [],
   "source": [
    "# Removing last shares (did not work before 10/11/2024 bug fix)\n",
    "sl_test_2 = StockLedger()\n",
    "sl_test_2.display_ledger()\n",
    "sl_test_2.buy('AAPL', 1, 10)\n",
    "sl_test_2.buy('AAPL', 1, 20)\n",
    "sl_test_2.display_ledger()\n",
    "sl_test_2.sell('AAPL', 2, 15)\n",
    "sl_test_2.display_ledger()"
   ]
  },
  {
   "cell_type": "markdown",
   "metadata": {},
   "source": [
    "OK So, problem is with 1 remaining share, remove doesn't seem to work."
   ]
  },
  {
   "cell_type": "markdown",
   "metadata": {},
   "source": [
    "Huh, making returned node have no next reference or previous reference works."
   ]
  },
  {
   "cell_type": "markdown",
   "metadata": {},
   "source": [
    "With next or previous nodes to None commented out:\n",
    "\n",
    "----  Stock Ledger  ----\n",
    "\n",
    "----  Stock Ledger  ----\n",
    "\n",
    "AAPL: 10 (1 shares)   20 (1 shares)   \n",
    "\n",
    "----  Stock Ledger  ----\n",
    "\n",
    "AAPL: 20 (1 shares)   10 (1 shares)  "
   ]
  },
  {
   "cell_type": "markdown",
   "metadata": {},
   "source": [
    "With next or previous nodes to None:\n",
    "\n",
    "----  Stock Ledger  ----\n",
    "\n",
    "----  Stock Ledger  ----\n",
    "\n",
    "AAPL: 10 (1 shares)   20 (1 shares)   \n",
    "\n",
    "----  Stock Ledger  ----\n",
    "\n",
    "AAPL: None"
   ]
  },
  {
   "cell_type": "code",
   "execution_count": null,
   "metadata": {},
   "outputs": [],
   "source": [
    "sl_test_3 = StockLedger()\n",
    "sl_test_3.buy('AAPL', 90, 20.0)\n",
    "sl_test_3.buy('AAPL', 20, 24.0)\n",
    "sl_test_3.buy('MSFT', 14, 95.0)\n",
    "sl_test_3.buy('MSFT', 5, 60.0)\n",
    "sl_test_3.buy('MSFT', 5, 70.0)\n",
    "sl_test_3.buy('TSLA', 50, 36.0)\n",
    "print(sl_test_1 == sl_test_3)  # Don't have equals method set up for StockLedger\n",
    "sl_test_3.display_ledger()"
   ]
  }
 ],
 "metadata": {
  "kernelspec": {
   "display_name": "Python 3",
   "language": "python",
   "name": "python3"
  },
  "language_info": {
   "codemirror_mode": {
    "name": "ipython",
    "version": 3
   },
   "file_extension": ".py",
   "mimetype": "text/x-python",
   "name": "python",
   "nbconvert_exporter": "python",
   "pygments_lexer": "ipython3",
   "version": "3.12.6"
  }
 },
 "nbformat": 4,
 "nbformat_minor": 2
}
