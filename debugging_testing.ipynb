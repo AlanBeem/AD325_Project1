{
 "cells": [
  {
   "cell_type": "markdown",
   "metadata": {},
   "source": [
    "## Capital Gains Tracker\n",
    "1. Testing with psuedorandomly generated buy-sell strings\n",
    "2. Debugging and testing 10/11/2024"
   ]
  },
  {
   "cell_type": "code",
   "execution_count": 1,
   "metadata": {},
   "outputs": [],
   "source": [
    "from stock_ledger import StockLedger\n",
    "from capital_gains_helper_methods import *\n",
    "from random import SystemRandom"
   ]
  },
  {
   "cell_type": "markdown",
   "metadata": {},
   "source": [
    "### 1. Testing with pseudorandomly generated buy-sell strings"
   ]
  },
  {
   "cell_type": "code",
   "execution_count": 7,
   "metadata": {},
   "outputs": [
    {
     "name": "stdout",
     "output_type": "stream",
     "text": [
      "Buy 1 shares of MSFT at $50.35.\n",
      "Sell 1 shares of MSFT at $16.63.\n",
      "Buy 4 shares of AAPL at $89.41.\n",
      "Buy 2 shares of TSLA at $192.07.\n",
      "Buy 3 shares of AAPL at $135.94.\n",
      "Buy 2 shares of MSFT at $100.83.\n",
      "Buy 3 shares of AAPL at $128.45.\n",
      "Sell 5 shares of AAPL at $122.79.\n",
      "Buy 4 shares of AAPL at $104.02.\n",
      "Buy 5 shares of MSFT at $101.89.\n",
      "Expected shares (from string generation function):\n",
      "[9, 7, 2, 0]\n",
      "\n",
      "----  Stock Ledger  ----\n",
      "MSFT: 100.83 (2 shares)   101.89 (5 shares)   \n",
      "AAPL: 135.94 (2 shares)   128.45 (3 shares)   104.02 (4 shares)   \n",
      "TSLA: 192.07 (2 shares)   \n",
      "\n",
      "AAPL: 9\n",
      "MSFT: 7\n",
      "TSLA: 2\n",
      "NVDA: 0\n"
     ]
    }
   ],
   "source": [
    "testing_1_stock_symbols = ['AAPL', 'MSFT', 'TSLA', 'NVDA']\n",
    "testing_1_buy_sell_str, expected_shares = generate_buy_sell_lines_string(testing_1_stock_symbols, 10, 1, 5)\n",
    "print(testing_1_buy_sell_str)\n",
    "print(\"Expected shares (from string generation function):\")\n",
    "print(expected_shares)\n",
    "print()\n",
    "testing_1_stock_ledger = display_interpret_string_as_ledger(testing_1_buy_sell_str)\n",
    "testing_1_stock_ledger.display_ledger()\n",
    "print()\n",
    "for each_symbol in testing_1_stock_symbols:\n",
    "    print(f\"{each_symbol}: {testing_1_stock_ledger.number_of_shares(each_symbol)}\")"
   ]
  },
  {
   "cell_type": "markdown",
   "metadata": {},
   "source": [
    "### Iterative tests using SystemRandom()"
   ]
  },
  {
   "cell_type": "code",
   "execution_count": 9,
   "metadata": {},
   "outputs": [
    {
     "name": "stdout",
     "output_type": "stream",
     "text": [
      "Displaying 81th iteration:\n",
      "Buy 35 shares of MSFT at $48.34.\n",
      "Buy 80 shares of TSLA at $111.19.\n",
      "Buy 88 shares of MSFT at $156.77.\n",
      "Buy 84 shares of MSFT at $84.68.\n",
      "Buy 62 shares of NVDA at $171.71.\n",
      "Buy 27 shares of AAPL at $40.56.\n",
      "Sell 45 shares of MSFT at $17.93.\n",
      "Buy 86 shares of TSLA at $172.03.\n",
      "Sell 94 shares of MSFT at $189.75.\n",
      "Buy 81 shares of MSFT at $182.93.\n",
      "Buy 70 shares of NVDA at $80.07.\n",
      "Sell 68 shares of NVDA at $97.15.\n",
      "Buy 44 shares of AAPL at $102.6.\n",
      "Sell 5 shares of TSLA at $19.21.\n",
      "Buy 96 shares of AAPL at $73.54.\n",
      "----  Stock Ledger  ----\n",
      "MSFT: 84.68 (68 shares)   182.93 (81 shares)   \n",
      "TSLA: 111.19 (75 shares)   172.03 (86 shares)   \n",
      "NVDA: 80.07 (64 shares)   \n",
      "AAPL: 40.56 (27 shares)   102.6 (44 shares)   73.54 (96 shares)   \n",
      "\n",
      "Number of shares:\n",
      "AAPL: 167\n",
      "MSFT: 149\n",
      "TSLA: 161\n",
      "NVDA: 64\n",
      "\n",
      "All iterations passed.\n"
     ]
    }
   ],
   "source": [
    "num_transactions_per_iteration = 15\n",
    "num_iterations = 100\n",
    "displayed_iteration = SystemRandom().randrange(num_iterations)\n",
    "failed_tests = []\n",
    "for iteration in range(num_iterations):\n",
    "    buy_sell_str_1, expected_shares = generate_buy_sell_lines_string(testing_1_stock_symbols, num_transactions_per_iteration)  # huh, cool\n",
    "    sl_test_1 = interpret_string_as_ledger(buy_sell_str_1)\n",
    "    if iteration == displayed_iteration:\n",
    "        print(f\"Displaying {displayed_iteration + 1}th iteration:\")\n",
    "        print(buy_sell_str_1)\n",
    "        sl_test_1.display_ledger()\n",
    "        print(\"\\nNumber of shares:\")\n",
    "        for each_symbol in testing_1_stock_symbols:\n",
    "            print(f\"{each_symbol}: {sl_test_1.number_of_shares(each_symbol)}\")\n",
    "    for each_int, each_symbol in zip(expected_shares, testing_1_stock_symbols):\n",
    "        if each_int != sl_test_1.number_of_shares(each_symbol):\n",
    "            failed_tests.append(iteration)\n",
    "            print(\"Test failed:\")\n",
    "            print(\"Expected:\")\n",
    "            print(testing_1_stock_symbols)\n",
    "            print(expected_shares)\n",
    "            print(\"Resulting ledger:\")\n",
    "            sl_test_1.display_ledger()\n",
    "if len(failed_tests) == 0:\n",
    "    print(\"\\nAll iterations passed.\")"
   ]
  },
  {
   "cell_type": "markdown",
   "metadata": {},
   "source": [
    "### 2. Debugging and testing 10/11/2024"
   ]
  },
  {
   "cell_type": "code",
   "execution_count": 4,
   "metadata": {},
   "outputs": [],
   "source": [
    "buy_sell_str = \"\"\"Buy 20 shares of AAPL at $45.\n",
    "Buy 20 shares of AAPL at $75.\n",
    "Buy 20 shares of MSFT at $95.\n",
    "Display the ledger\n",
    "Sell 30 shares of AAPL at $65\n",
    "Display the ledger\n",
    "Sell 10 shares of AAPL at $65\n",
    "Display the ledger\n",
    "Buy 100 shares of AAPL at $20\n",
    "Buy 20 shares of AAPL at $24\n",
    "Buy 200 shares of TSLA at $36\n",
    "Display the ledger\n",
    "Sell 10 shares of AAPL at $65\n",
    "Display the ledger\n",
    "Sell 150 shares of TSLA at $30\n",
    "Display the ledger\n",
    "Buy 5 shares of MSFT at $60\n",
    "Buy 5 shares of MSFT at $70\n",
    "Display the ledger\n",
    "Sell 4 shares of MSFT at $30\n",
    "Display the ledger\n",
    "Sell 2 shares of MSFT at $30\n",
    "Display the ledger\"\"\"\n",
    "\n",
    "sl_test_2_1 = display_interpret_string_as_ledger(buy_sell_str)\n",
    "\n",
    "# sl_test_2_2 = interpret_string_as_ledger(buy_sell_str)\n",
    "# sl_test_2_2.display_ledger()"
   ]
  },
  {
   "cell_type": "code",
   "execution_count": 5,
   "metadata": {},
   "outputs": [
    {
     "name": "stdout",
     "output_type": "stream",
     "text": [
      "----  Stock Ledger  ----\n",
      "----  Stock Ledger  ----\n",
      "AAPL: 10 (1 shares)   20 (1 shares)   \n",
      "----  Stock Ledger  ----\n",
      "AAPL: None\n"
     ]
    }
   ],
   "source": [
    "# Removing last shares (did not work before 10/11/2024 bug fix)\n",
    "sl_test_2 = StockLedger()\n",
    "sl_test_2.display_ledger()\n",
    "sl_test_2.buy('AAPL', 1, 10)\n",
    "sl_test_2.buy('AAPL', 1, 20)\n",
    "sl_test_2.display_ledger()\n",
    "sl_test_2.sell('AAPL', 2, 15)\n",
    "sl_test_2.display_ledger()"
   ]
  },
  {
   "cell_type": "markdown",
   "metadata": {},
   "source": [
    "OK So, problem is with 1 remaining share, remove doesn't seem to work."
   ]
  },
  {
   "cell_type": "markdown",
   "metadata": {},
   "source": [
    "Huh, making returned node have no next reference or previous reference works."
   ]
  },
  {
   "cell_type": "markdown",
   "metadata": {},
   "source": [
    "With next or previous nodes to None commented out:\n",
    "\n",
    "----  Stock Ledger  ----\n",
    "\n",
    "----  Stock Ledger  ----\n",
    "\n",
    "AAPL: 10 (1 shares)   20 (1 shares)   \n",
    "\n",
    "----  Stock Ledger  ----\n",
    "\n",
    "AAPL: 20 (1 shares)   10 (1 shares)  "
   ]
  },
  {
   "cell_type": "markdown",
   "metadata": {},
   "source": [
    "With next or previous nodes to None:\n",
    "\n",
    "----  Stock Ledger  ----\n",
    "\n",
    "----  Stock Ledger  ----\n",
    "\n",
    "AAPL: 10 (1 shares)   20 (1 shares)   \n",
    "\n",
    "----  Stock Ledger  ----\n",
    "\n",
    "AAPL: None"
   ]
  },
  {
   "cell_type": "code",
   "execution_count": 6,
   "metadata": {},
   "outputs": [
    {
     "name": "stdout",
     "output_type": "stream",
     "text": [
      "False\n",
      "----  Stock Ledger  ----\n",
      "AAPL: 20.0 (90 shares)   24.0 (20 shares)   \n",
      "MSFT: 95.0 (14 shares)   60.0 (5 shares)   70.0 (5 shares)   \n",
      "TSLA: 36.0 (50 shares)   \n"
     ]
    }
   ],
   "source": [
    "sl_test_3 = StockLedger()\n",
    "sl_test_3.buy('AAPL', 90, 20.0)\n",
    "sl_test_3.buy('AAPL', 20, 24.0)\n",
    "sl_test_3.buy('MSFT', 14, 95.0)\n",
    "sl_test_3.buy('MSFT', 5, 60.0)\n",
    "sl_test_3.buy('MSFT', 5, 70.0)\n",
    "sl_test_3.buy('TSLA', 50, 36.0)\n",
    "# print(sl_test_1 == sl_test_3)  # Don't have equals method set up for StockLedger\n",
    "sl_test_3.display_ledger()"
   ]
  }
 ],
 "metadata": {
  "kernelspec": {
   "display_name": "Python 3",
   "language": "python",
   "name": "python3"
  },
  "language_info": {
   "codemirror_mode": {
    "name": "ipython",
    "version": 3
   },
   "file_extension": ".py",
   "mimetype": "text/x-python",
   "name": "python",
   "nbconvert_exporter": "python",
   "pygments_lexer": "ipython3",
   "version": "3.12.6"
  }
 },
 "nbformat": 4,
 "nbformat_minor": 2
}
